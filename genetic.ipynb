{
 "cells": [
  {
   "attachments": {},
   "cell_type": "markdown",
   "metadata": {},
   "source": [
    "<h4>Mahdi Abbariki</h4>\n",
    "<h5>983212001</h5>"
   ]
  },
  {
   "attachments": {},
   "cell_type": "markdown",
   "metadata": {},
   "source": [
    "first, we import packages that we want to use"
   ]
  },
  {
   "cell_type": "code",
   "execution_count": 675,
   "metadata": {},
   "outputs": [],
   "source": [
    "import numpy as np"
   ]
  },
  {
   "attachments": {},
   "cell_type": "markdown",
   "metadata": {},
   "source": [
    "configuration of this algorithm is done in a <b>File</b> named geneticConfig <br>\n",
    "read the config file and populate the initial variables\n",
    "\n",
    "<b>keep the line orders as it is</b>\n",
    "<ul>\n",
    "    <li>line 1 : number of population</li>\n",
    "    <li>line 2 : minimum of search range</li>\n",
    "    <li>line 3 : maximum of search range</li>\n",
    "    <li>line 4 : mutation probability</li>\n",
    "    <li>line 5 : crossover probability</li>\n",
    "    <li>line 6 : crossover type (1 for 1-point, 2 for uniform)</li>\n",
    "    <li>line 7 : max iterations of the algorithm</li>\n",
    "</ul>"
   ]
  },
  {
   "cell_type": "code",
   "execution_count": 676,
   "metadata": {},
   "outputs": [],
   "source": [
    "config = open('geneticConfig', 'r').readlines()\n",
    "# number of initial chromosomes\n",
    "maxPopulation = int(config[0].strip())\n",
    "\n",
    "# min range of solution\n",
    "minRange = int(config[1].strip())\n",
    "# max range of solution\n",
    "maxRange = int(config[2].strip())\n",
    "# mutation probability\n",
    "pm = float(config[3].strip())\n",
    "# crossover probability\n",
    "pc = float(config[4].strip())\n",
    "# crossover type\n",
    "crossoverType = int(config[5].strip())\n",
    "# max iteration\n",
    "maxIteration = int(config[6].strip())\n",
    "\n",
    "# bit needed\n",
    "maxBitNeeded = maxRange.bit_length()\n",
    "# population must be even\n",
    "if(maxPopulation%2!=0): maxPopulation = maxPopulation+1"
   ]
  },
  {
   "attachments": {},
   "cell_type": "markdown",
   "metadata": {},
   "source": [
    "create a method to compute the function based on input x <br>\n",
    "another method to do SoftMax on the array results"
   ]
  },
  {
   "cell_type": "code",
   "execution_count": 677,
   "metadata": {},
   "outputs": [],
   "source": [
    "def computeFunction(x):\n",
    "    return np.negative(np.power(x,2)) + (6 * x)\n",
    "\n",
    "\n",
    "def softmax(x):\n",
    "    return (np.exp(x)/np.exp(x).sum())\n"
   ]
  },
  {
   "attachments": {},
   "cell_type": "markdown",
   "metadata": {},
   "source": [
    "then, we initialize population<br>\n",
    "generate the initial population by generating random binary numbers inside the range"
   ]
  },
  {
   "cell_type": "code",
   "execution_count": 678,
   "metadata": {},
   "outputs": [],
   "source": [
    "def generateInitialPopulation():\n",
    "    population = [] \n",
    "    for index in range(maxPopulation):\n",
    "        str = '{0:0{bitLen}b}'.format(np.random.randint(low=minRange, high=maxRange), bitLen=maxBitNeeded)\n",
    "        population.append(list(str))\n",
    "    return population"
   ]
  },
  {
   "attachments": {},
   "cell_type": "markdown",
   "metadata": {},
   "source": [
    "After preparing the population, Based on the fitness function, we are going to select the best individuals within the current population as parents for mating. \n",
    "<br>\n",
    "normalize the fitnesses between 0 to 1 to generate roulette wheel probabilities"
   ]
  },
  {
   "cell_type": "code",
   "execution_count": 679,
   "metadata": {},
   "outputs": [],
   "source": [
    "def computeFitnesses(population):\n",
    "    fitnesses = np.zeros(len(population))\n",
    "    for index,item in enumerate(population):\n",
    "        x = int(''.join(item),2)\n",
    "        fitnesses[index] = computeFunction(x)\n",
    "    # normalize fitnesses for probability of selecting each parent\n",
    "    fitnesses = (fitnesses - np.min(fitnesses)) / \\\n",
    "        (np.max(fitnesses) - np.min(fitnesses) + np.finfo(float).eps)\n",
    "    return fitnesses"
   ]
  },
  {
   "attachments": {},
   "cell_type": "markdown",
   "metadata": {},
   "source": [
    "based on fitnesses array, now we can select best parents for mating pool\n",
    "<br>\n",
    "best parents is generated using <b>roulette wheel</b>"
   ]
  },
  {
   "cell_type": "code",
   "execution_count": 680,
   "metadata": {},
   "outputs": [],
   "source": [
    "def selectMatingPool(population, fitnesses):\n",
    "    parents = []\n",
    "    probability = []\n",
    "    s = 0\n",
    "    fitnessesSoftMax = softmax(fitnesses)\n",
    "    for k in range(len(fitnessesSoftMax)):\n",
    "        s = s + fitnessesSoftMax[k]\n",
    "        probability.append(s)\n",
    "    for k in range(maxPopulation):\n",
    "        rand = np.random.uniform(low=0,high=1)\n",
    "        rouletteWheelIndex = [n for n, i in enumerate(probability) if i > rand][0]\n",
    "        parents.append(population[rouletteWheelIndex])\n",
    "    return parents"
   ]
  },
  {
   "attachments": {},
   "cell_type": "markdown",
   "metadata": {},
   "source": [
    "after selecting mating pool from population, now we can generate next generation using crossover with the selected type in config"
   ]
  },
  {
   "cell_type": "code",
   "execution_count": 681,
   "metadata": {},
   "outputs": [],
   "source": [
    "def onePointCrossover(parents):\n",
    "    offspring = [[] for _ in range(len(parents))]\n",
    "    for k in range(len(parents)):\n",
    "        randPc = np.random.uniform(low=0,high=1)\n",
    "        firstParent = k % len(parents)\n",
    "        secondParent = (k+1) % len(parents)\n",
    "        if(randPc <= pc):\n",
    "            point = np.random.randint(low=0,high=maxBitNeeded)\n",
    "            offspring[k][0:point] = parents[firstParent][0:point]\n",
    "            offspring[k][point:] = parents[secondParent][point:]\n",
    "        else:\n",
    "            offspring[k] = parents[firstParent]\n",
    "    return offspring\n",
    "\n",
    "\n",
    "def uniformCrossover(parents):\n",
    "    offspring = [['0' for _ in range(maxBitNeeded)] for _ in range(len(parents))]\n",
    "    for k in range(len(parents)):\n",
    "        randPc = np.random.uniform(low=0, high=1)\n",
    "        firstParent = k % len(parents)\n",
    "        secondParent = (k+1) % len(parents)\n",
    "        if (randPc <= pc):\n",
    "            for j in range(len(parents[k])):\n",
    "                rand = np.random.uniform(low=0,high=1)\n",
    "                if(rand <= 0.5):\n",
    "                    offspring[k][j] = parents[firstParent][j]\n",
    "                else:\n",
    "                    offspring[k][j] = parents[secondParent][j]\n",
    "        else:\n",
    "            offspring[k] = parents[firstParent]\n",
    "    return offspring\n",
    "\n",
    "\n",
    "\n",
    "def doCrossOver(parents):\n",
    "    if(type == 1):\n",
    "        return onePointCrossover(parents=parents)\n",
    "    else:\n",
    "        return uniformCrossover(parents=parents)"
   ]
  },
  {
   "attachments": {},
   "cell_type": "markdown",
   "metadata": {},
   "source": [
    "now we can perform mutation\n",
    "<br>\n",
    "mutation is done generating random number between 0 to 1 for each bit of children"
   ]
  },
  {
   "cell_type": "code",
   "execution_count": 682,
   "metadata": {},
   "outputs": [],
   "source": [
    "def mutation(offspring):\n",
    "    for k in range(len(offspring)):\n",
    "        for j in range(len(offspring[k])):\n",
    "            randPm = np.random.uniform(low=0, high=1)\n",
    "            if (randPm <= pm):\n",
    "                if (offspring[k][j] == '0'):\n",
    "                    offspring[k][j] = '1'\n",
    "                else:\n",
    "                    offspring[k][j] = '0'\n",
    "    return offspring"
   ]
  },
  {
   "attachments": {},
   "cell_type": "markdown",
   "metadata": {},
   "source": [
    "now we have all methods that we need to build the genetics algorithm, so let's build it \n",
    "<br>\n",
    "print the final result"
   ]
  },
  {
   "cell_type": "code",
   "execution_count": 683,
   "metadata": {},
   "outputs": [
    {
     "name": "stdout",
     "output_type": "stream",
     "text": [
      "best answer founded is: 3\n",
      "equation value with this value is: 9\n"
     ]
    }
   ],
   "source": [
    "population = generateInitialPopulation()\n",
    "for generation in range(maxIteration):\n",
    "    fitness = computeFitnesses(population=population)\n",
    "    parents = selectMatingPool(population=population,fitnesses=fitness)\n",
    "    offspring = doCrossOver(parents=parents)\n",
    "    offspring = mutation(offspring=offspring)\n",
    "\n",
    "    population = offspring\n",
    "\n",
    "bestFitness = computeFitnesses(population=population)\n",
    "bestGeneIndex = np.where(bestFitness == np.max(bestFitness))\n",
    "x = int(''.join(population[bestGeneIndex[0][0]]), 2)\n",
    "print(\"best answer founded is:\", x)\n",
    "print(\"equation value with this value is:\",computeFunction(x))\n"
   ]
  }
 ],
 "metadata": {
  "kernelspec": {
   "display_name": "Python 3",
   "language": "python",
   "name": "python3"
  },
  "language_info": {
   "codemirror_mode": {
    "name": "ipython",
    "version": 3
   },
   "file_extension": ".py",
   "mimetype": "text/x-python",
   "name": "python",
   "nbconvert_exporter": "python",
   "pygments_lexer": "ipython3",
   "version": "3.12.3"
  },
  "orig_nbformat": 4,
  "vscode": {
   "interpreter": {
    "hash": "916dbcbb3f70747c44a77c7bcd40155683ae19c65e1c03b4aa3499c5328201f1"
   }
  }
 },
 "nbformat": 4,
 "nbformat_minor": 2
}
